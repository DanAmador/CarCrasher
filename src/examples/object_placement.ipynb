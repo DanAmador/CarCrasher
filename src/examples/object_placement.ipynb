{
 "cells": [
  {
   "cell_type": "markdown",
   "metadata": {},
   "source": [
    "# Overview\n",
    "\n",
    "This example will show how to add a static object using a model file from the simulator's assets and also place a procedurally generated mesh into a scenario via Python. Specifically, we will place a ramp on the drag strip on West Coast USA and generate a ring in front of the ramp that a vehicle will jump through. A camera is added to the scenario that we will use to generate an image of the vehicle jumping through the ring.\n",
    "\n",
    "The scenario works as follows: A vehicle is placed on the drag strip in West Coast USA rotated to be parallel to the road. At the end of the drag strip, a ramp is placed with a procedurally generated ring in front of the ramp's tip. Additionally, a camera is added to the scenario placed and rotated such that it captures the tip of the ramp and the ring. During the scenario, the vehicle will be set to accelerate, driving towards the end of the strip, while Python regularly compares the current vehicle position to that of the ring. When their distance is low enough, indicating the vehicle is currently jumping through the ring, a photo will be rendered and shown from Python. In summary, this example shows:\n",
    "\n",
    "* How to define a scenario on an existing map\n",
    "* How to add a vehicle to that scenario at a specific position and rotation\n",
    "* How to place a static object based on an existing mesh file in the scenario\n",
    "* How to add a procedurally generated primitive mesh with user-defined properties\n",
    "* How to place a camera in the environment and render images from its perspective\n",
    "* How to query the scenario for objects\n",
    "* How to sync the current scenario state with the simulator"
   ]
  },
  {
   "cell_type": "markdown",
   "metadata": {},
   "source": [
    "## Setup\n",
    "\n",
    "Our scenario mainly relies on the Vehicle, Scenario, ProceduralRing, StaticObject, Camera, and BeamNGpy classes provided by this library. Their class names mostly correspond to their role in our scenario (as in, the Vehicle class is used to specify our vehicle), but it should be noted that the ProceduralRing class is used to define a ring mesh that is procedurally generated based on its properties and StaticObject represents an object based on a static mesh from the simulator's assets.\n",
    "\n",
    "Other imports are mostly for utility; numpy for easy distance calculations and matplotlib to display our image within Jupyter."
   ]
  },
  {
   "cell_type": "code",
   "execution_count": 1,
   "metadata": {},
   "outputs": [],
   "source": [
    "%matplotlib inline\n",
    "\n",
    "import matplotlib\n",
    "import numpy as np\n",
    "import matplotlib.pyplot as plt\n",
    "\n",
    "from matplotlib.pyplot import imshow\n",
    "\n",
    "from beamngpy import BeamNGpy, Vehicle, Scenario, ProceduralRing, StaticObject\n",
    "from beamngpy.sensors import Camera\n",
    "from pathlib import Path\n",
    "\n",
    "#adds parent directory\n",
    "import sys; sys.path.insert(0, '..')"
   ]
  },
  {
   "cell_type": "markdown",
   "metadata": {},
   "source": [
    "## Scenario creation\n",
    "\n",
    "The scenario is defined to be on the `west_coast_usa` map through the `Scenario` class and given the name `object_placement`. Afterwards, we define the main vehicle of the scenario through the `Vehicle` class. The `Vehicle` instance we create is then added to the scenario at a position corresponding to the start of the drag strip. These values, and other coordinates in this example, were found through the world editor available via F11 in the simulator. With the vehicle set, we then create our ramp as a `StaticObject` with our desired position and rotation. What's most noteworthy here is the `shape` parameter of the `StaticObject`. This field contains the path to the model file that this `StaticObject` is supposed to use. It has to point to a valid `.dae` file in either the simulator's root directory or your userpath. After the ramp, we place a `ProceduralRing` in the scenario that is position at the tip of the ramp and has a radius wide enough to jump through.\n",
    "\n",
    "For our photo, we define an instance of the `Camera` sensor that is placed freely in the environment instead of being attached to the vehicle. This functionality can be used to simulate something like a surveillance camera instead of a vehicle-mounted camera like a bumper cam. The camera is placed in the air close to the ramp with a direction pointing at the center of our ring (i.e. ring position subtraced from camera position.) The camera is also configured to have a wider near/far clipping plane. This is a technical detail of rendering, but it defines at what minimum and maximum distances geometry is rendered. Since our camera is floating freely at a relatively high position, it can see quite far, so the maximum distance of geometry to render is set to 4km.\n",
    "\n",
    "Since all our necessary objects are added to the scenario, we then call `scenario.make` to generate scenario-relevant files for the simulator to load."
   ]
  },
  {
   "cell_type": "code",
   "execution_count": 13,
   "metadata": {},
   "outputs": [],
   "source": [
    "from config import beam_factory\n",
    "\n",
    "beamng = beam_factory()\n",
    "beamng.open()\n",
    "\n",
    "scenario = Scenario('west_coast_usa', 'object_placement')\n",
    "\n",
    "vehicle = Vehicle('ego', model='etk800', licence='PYTHON', color='Green')\n",
    "scenario.add_vehicle(vehicle, pos=(-198.5, -164.189, 119.7), rot=(0, 0, -126.25))\n",
    "\n",
    "ramp = StaticObject(name='pyramp', pos=(277.5, 183.5, 118.75), rot=(0, 0, 55), scale=(1, 1, 1), shape='/levels/west_coast_usa/art/shapes/objects/ramp_massive.dae')\n",
    "scenario.add_object(ramp)\n",
    "\n",
    "ring = ProceduralRing(name='pyring', pos=(445, 301, 218), rot=(0, 0, 100), radius=5, thickness=2.5)\n",
    "scenario.add_procedural_mesh(ring)\n",
    "\n",
    "cam_pos = (391.5, 251, 197.8)\n",
    "cam_dir = (445 - cam_pos[0], 301 - cam_pos[1], 208 - cam_pos[2])\n",
    "cam = Camera(cam_pos, cam_dir, 60, (2048, 2048), near_far=(1, 4000), colour=True)\n",
    "scenario.add_camera(cam, 'cam')\n",
    "\n",
    "scenario.make(beamng)"
   ]
  },
  {
   "cell_type": "markdown",
   "metadata": {},
   "source": [
    "## Running\n",
    "\n",
    "Once the scenario is made, we can start the simulator, load the scenario, and start it. At the start of the scenario, we query the world for all procedural meshes and look for the position of the ring we placed. The ring's position is, of course, known to us, since we placed it at hardcoded coordinates, but for demonstration purposes we query the environment and look for our ring using the name we set instead.\n",
    "\n",
    "The vehicle is set to accelerate incrementally using the `vehicle.control` function. This is done because full-flooring the gas pedal from the outset is likely to make the wheels spin out and make the vehicle go off course, so instead we gradually increase the throttle every 150 steps until 1.0 throttle.\n",
    "\n",
    "Once at full throttle, our code starts comparing vehicle position to ring position regularly to detect the vehicle jumping through the ring. The main thing to note here is the `scenario.update()` call. Since the simulator is actually running in a different process, Python needs to sync the current scenario state with the simulator to detect changes in the vehicle. The `scenario.update()` call does that; the vehicle's `vehicle.state` field is updated accordingly. The `pos` entry in the `vehicle.state` dictionary contains the vehicle's current position as an (X, Y, Z) coordinate triplet which we then use to measure the distance between vehicle and the ring. Once that distance is below 5 meters, we assume the vehicle is jumping through the ring and render our photo using `scenario.render_cameras()`. This function returns a map of camera names to their color, depth, and annotation data."
   ]
  },
  {
   "cell_type": "code",
   "execution_count": null,
   "metadata": {},
   "outputs": [
    {
     "name": "stderr",
     "output_type": "stream",
     "text": [
      "ERROR:root:Error connecting to BeamNG.tech vehicle ego. 25 tries left.\n",
      "ERROR:root:[WinError 10061] No connection could be made because the target machine actively refused it\n",
      "Traceback (most recent call last):\n",
      "  File \"Z:\\Conda\\lib\\site-packages\\beamngpy\\vehicle.py\", line 176, in _connect_existing\n",
      "    self.skt.connect((self.bng.host, self.port))\n",
      "ConnectionRefusedError: [WinError 10061] No connection could be made because the target machine actively refused it\n",
      "ERROR:root:Error connecting to BeamNG.tech vehicle ego. 24 tries left.\n",
      "ERROR:root:[WinError 10061] No connection could be made because the target machine actively refused it\n",
      "Traceback (most recent call last):\n",
      "  File \"Z:\\Conda\\lib\\site-packages\\beamngpy\\vehicle.py\", line 176, in _connect_existing\n",
      "    self.skt.connect((self.bng.host, self.port))\n",
      "ConnectionRefusedError: [WinError 10061] No connection could be made because the target machine actively refused it\n",
      "ERROR:root:Error connecting to BeamNG.tech vehicle ego. 23 tries left.\n",
      "ERROR:root:[WinError 10061] No connection could be made because the target machine actively refused it\n",
      "Traceback (most recent call last):\n",
      "  File \"Z:\\Conda\\lib\\site-packages\\beamngpy\\vehicle.py\", line 176, in _connect_existing\n",
      "    self.skt.connect((self.bng.host, self.port))\n",
      "ConnectionRefusedError: [WinError 10061] No connection could be made because the target machine actively refused it\n",
      "ERROR:root:Error connecting to BeamNG.tech vehicle ego. 22 tries left.\n",
      "ERROR:root:[WinError 10061] No connection could be made because the target machine actively refused it\n",
      "Traceback (most recent call last):\n",
      "  File \"Z:\\Conda\\lib\\site-packages\\beamngpy\\vehicle.py\", line 176, in _connect_existing\n",
      "    self.skt.connect((self.bng.host, self.port))\n",
      "ConnectionRefusedError: [WinError 10061] No connection could be made because the target machine actively refused it\n",
      "ERROR:root:Error connecting to BeamNG.tech vehicle ego. 21 tries left.\n",
      "ERROR:root:[WinError 10061] No connection could be made because the target machine actively refused it\n",
      "Traceback (most recent call last):\n",
      "  File \"Z:\\Conda\\lib\\site-packages\\beamngpy\\vehicle.py\", line 176, in _connect_existing\n",
      "    self.skt.connect((self.bng.host, self.port))\n",
      "ConnectionRefusedError: [WinError 10061] No connection could be made because the target machine actively refused it\n",
      "ERROR:root:Error connecting to BeamNG.tech vehicle ego. 20 tries left.\n",
      "ERROR:root:[WinError 10061] No connection could be made because the target machine actively refused it\n",
      "Traceback (most recent call last):\n",
      "  File \"Z:\\Conda\\lib\\site-packages\\beamngpy\\vehicle.py\", line 176, in _connect_existing\n",
      "    self.skt.connect((self.bng.host, self.port))\n",
      "ConnectionRefusedError: [WinError 10061] No connection could be made because the target machine actively refused it\n",
      "ERROR:root:Error connecting to BeamNG.tech vehicle ego. 19 tries left.\n",
      "ERROR:root:[WinError 10061] No connection could be made because the target machine actively refused it\n",
      "Traceback (most recent call last):\n",
      "  File \"Z:\\Conda\\lib\\site-packages\\beamngpy\\vehicle.py\", line 176, in _connect_existing\n",
      "    self.skt.connect((self.bng.host, self.port))\n",
      "ConnectionRefusedError: [WinError 10061] No connection could be made because the target machine actively refused it\n"
     ]
    }
   ],
   "source": [
    "beamng.set_deterministic()\n",
    "beamng.load_scenario(scenario)\n",
    "beamng.start_scenario()\n",
    "\n",
    "meshes = scenario.find_procedural_meshes()\n",
    "ring_pos = None\n",
    "for mesh in meshes:\n",
    "    if mesh.name == 'pyring':\n",
    "        ring_pos = np.array(mesh.position)\n",
    "\n",
    "for i in range(5)[1:]:\n",
    "    vehicle.control(throttle=i / 4)\n",
    "    beamng.step(150)\n",
    "\n",
    "scenario.update()\n",
    "distance = np.linalg.norm(np.array(vehicle.state['pos']) - ring_pos)\n",
    "while distance > 5:\n",
    "    scenario.update()\n",
    "    distance = np.linalg.norm(np.array(vehicle.state['pos']) - ring_pos)\n",
    "\n",
    "frames = scenario.render_cameras()\n",
    "beamng.close()"
   ]
  },
  {
   "cell_type": "markdown",
   "metadata": {},
   "source": [
    "## Display\n",
    "\n",
    "To show our result, we simply grab the color image from the camera's data and display it using the `imshow` function provided in Jupyter."
   ]
  },
  {
   "cell_type": "code",
   "execution_count": 16,
   "metadata": {},
   "outputs": [
    {
     "ename": "NameError",
     "evalue": "name 'frames' is not defined",
     "output_type": "error",
     "traceback": [
      "\u001b[1;31m---------------------------------------------------------------------------\u001b[0m",
      "\u001b[1;31mNameError\u001b[0m                                 Traceback (most recent call last)",
      "\u001b[1;32m<ipython-input-16-b3f0b090b762>\u001b[0m in \u001b[0;36m<module>\u001b[1;34m\u001b[0m\n\u001b[0;32m      1\u001b[0m \u001b[0mplt\u001b[0m\u001b[1;33m.\u001b[0m\u001b[0mfigure\u001b[0m\u001b[1;33m(\u001b[0m\u001b[0mfigsize\u001b[0m\u001b[1;33m=\u001b[0m\u001b[1;33m(\u001b[0m\u001b[1;36m20\u001b[0m\u001b[1;33m,\u001b[0m \u001b[1;36m20\u001b[0m\u001b[1;33m)\u001b[0m\u001b[1;33m)\u001b[0m\u001b[1;33m\u001b[0m\u001b[1;33m\u001b[0m\u001b[0m\n\u001b[1;32m----> 2\u001b[1;33m \u001b[0mimshow\u001b[0m\u001b[1;33m(\u001b[0m\u001b[0mnp\u001b[0m\u001b[1;33m.\u001b[0m\u001b[0masarray\u001b[0m\u001b[1;33m(\u001b[0m\u001b[0mframes\u001b[0m\u001b[1;33m[\u001b[0m\u001b[1;34m'cam'\u001b[0m\u001b[1;33m]\u001b[0m\u001b[1;33m[\u001b[0m\u001b[1;34m'colour'\u001b[0m\u001b[1;33m]\u001b[0m\u001b[1;33m.\u001b[0m\u001b[0mconvert\u001b[0m\u001b[1;33m(\u001b[0m\u001b[1;34m'RGB'\u001b[0m\u001b[1;33m)\u001b[0m\u001b[1;33m)\u001b[0m\u001b[1;33m)\u001b[0m\u001b[1;33m\u001b[0m\u001b[1;33m\u001b[0m\u001b[0m\n\u001b[0m",
      "\u001b[1;31mNameError\u001b[0m: name 'frames' is not defined"
     ]
    },
    {
     "data": {
      "text/plain": [
       "<Figure size 1440x1440 with 0 Axes>"
      ]
     },
     "metadata": {},
     "output_type": "display_data"
    }
   ],
   "source": [
    "plt.figure(figsize=(20, 20))\n",
    "imshow(np.asarray(frames['cam']['colour'].convert('RGB')))"
   ]
  },
  {
   "cell_type": "code",
   "execution_count": null,
   "metadata": {},
   "outputs": [],
   "source": []
  }
 ],
 "metadata": {
  "kernelspec": {
   "display_name": "Python 3",
   "language": "python",
   "name": "python3"
  },
  "language_info": {
   "codemirror_mode": {
    "name": "ipython",
    "version": 3
   },
   "file_extension": ".py",
   "mimetype": "text/x-python",
   "name": "python",
   "nbconvert_exporter": "python",
   "pygments_lexer": "ipython3",
   "version": "3.8.5"
  }
 },
 "nbformat": 4,
 "nbformat_minor": 2
}
